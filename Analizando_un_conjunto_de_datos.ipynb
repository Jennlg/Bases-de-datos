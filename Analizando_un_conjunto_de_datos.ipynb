{
 "cells": [
  {
   "cell_type": "code",
   "execution_count": 2,
   "metadata": {},
   "outputs": [
    {
     "name": "stdout",
     "output_type": "stream",
     "text": [
      "Requirement already satisfied: mysql-connector-python in c:\\users\\jenni\\anaconda3\\lib\\site-packages (8.4.0)\n",
      "Requirement already satisfied: matplotlib in c:\\users\\jenni\\anaconda3\\lib\\site-packages (3.8.0)\n",
      "Requirement already satisfied: pandas in c:\\users\\jenni\\anaconda3\\lib\\site-packages (2.1.4)\n",
      "Requirement already satisfied: contourpy>=1.0.1 in c:\\users\\jenni\\anaconda3\\lib\\site-packages (from matplotlib) (1.2.0)\n",
      "Requirement already satisfied: cycler>=0.10 in c:\\users\\jenni\\anaconda3\\lib\\site-packages (from matplotlib) (0.11.0)\n",
      "Requirement already satisfied: fonttools>=4.22.0 in c:\\users\\jenni\\anaconda3\\lib\\site-packages (from matplotlib) (4.25.0)\n",
      "Requirement already satisfied: kiwisolver>=1.0.1 in c:\\users\\jenni\\anaconda3\\lib\\site-packages (from matplotlib) (1.4.4)\n",
      "Requirement already satisfied: numpy<2,>=1.21 in c:\\users\\jenni\\anaconda3\\lib\\site-packages (from matplotlib) (1.26.4)\n",
      "Requirement already satisfied: packaging>=20.0 in c:\\users\\jenni\\anaconda3\\lib\\site-packages (from matplotlib) (23.1)\n",
      "Requirement already satisfied: pillow>=6.2.0 in c:\\users\\jenni\\anaconda3\\lib\\site-packages (from matplotlib) (10.2.0)\n",
      "Requirement already satisfied: pyparsing>=2.3.1 in c:\\users\\jenni\\anaconda3\\lib\\site-packages (from matplotlib) (3.0.9)\n",
      "Requirement already satisfied: python-dateutil>=2.7 in c:\\users\\jenni\\anaconda3\\lib\\site-packages (from matplotlib) (2.8.2)\n",
      "Requirement already satisfied: pytz>=2020.1 in c:\\users\\jenni\\anaconda3\\lib\\site-packages (from pandas) (2023.3.post1)\n",
      "Requirement already satisfied: tzdata>=2022.1 in c:\\users\\jenni\\anaconda3\\lib\\site-packages (from pandas) (2023.3)\n",
      "Requirement already satisfied: six>=1.5 in c:\\users\\jenni\\anaconda3\\lib\\site-packages (from python-dateutil>=2.7->matplotlib) (1.16.0)\n"
     ]
    }
   ],
   "source": [
    "!pip install mysql-connector-python matplotlib pandas"
   ]
  },
  {
   "cell_type": "code",
   "execution_count": 2,
   "metadata": {},
   "outputs": [],
   "source": [
    "import mysql.connector\n",
    "import pandas as pd\n",
    "import matplotlib.pyplot as plt\n",
    "import seaborn as sns\n",
    "from tabulate import tabulate"
   ]
  },
  {
   "cell_type": "markdown",
   "metadata": {
    "id": "iM_oRWnc7lF1"
   },
   "source": [
    "# ***Analizando las defunciones por sexo y por entidad***\n",
    "Se utilizará de la página del Sistema de Información de la Secretaría de Salud [DGIS](http://sinaiscap.salud.gob.mx:8080/DGIS/) un tablero de defunciones por año y por sexo en el país, específicamente, el tablero se encuentra en [tablero](http://sinaiscap.salud.gob.mx:8080/DGIS/GenerarTabla?titulo=Defunciones%20por%20sexo%20por%20a%F1o&href=/tablero/defunciones/defunciones_sexo_porentidad/1998-2022_defunciones_sexo_porentidad.xlsx&ruta=/tablero/defunciones/defunciones_sexo_porentidad/1998-2022_defunciones_sexo_porentidad.xlsx&hoja=Nacional&adicionalesTitulo=NACIONAL).\n",
    "Primeramente, se descargó el archivo .xlsx, se convirtió a .csv, y con ayuda de MySQL Workbench lo convertimos a una tabla en una base de datos, es por eso que a continuación se muestra la conexión a nuestra base de datos"
   ]
  },
  {
   "cell_type": "markdown",
   "metadata": {},
   "source": [
    "## Conexión a la base de datos"
   ]
  },
  {
   "cell_type": "code",
   "execution_count": 3,
   "metadata": {},
   "outputs": [],
   "source": [
    "def connect_to_db():\n",
    "    return mysql.connector.connect(\n",
    "        host=\"localhost\",\n",
    "        user=\"root\",\n",
    "        password=\"JSLGKGM081022\",\n",
    "        database=\"proyecto\"\n",
    "    )"
   ]
  },
  {
   "cell_type": "markdown",
   "metadata": {},
   "source": [
    "## Realizar una consulta y devolver los datos en un DataFrame de pandas"
   ]
  },
  {
   "cell_type": "code",
   "execution_count": 4,
   "metadata": {},
   "outputs": [],
   "source": [
    "def fetch_data(query):\n",
    "    connection = connect_to_db()\n",
    "    cursor = connection.cursor()\n",
    "    cursor.execute(query)\n",
    "    data = cursor.fetchall()\n",
    "    columns = [col[0] for col in cursor.description]\n",
    "    df = pd.DataFrame(data, columns=columns)\n",
    "    cursor.close()\n",
    "    connection.close()\n",
    "    return df"
   ]
  },
  {
   "cell_type": "markdown",
   "metadata": {},
   "source": [
    "## Verificamos la conexión"
   ]
  },
  {
   "cell_type": "code",
   "execution_count": 5,
   "metadata": {},
   "outputs": [
    {
     "name": "stdout",
     "output_type": "stream",
     "text": [
      "Conexión exitosa\n",
      "Conexión cerrada\n"
     ]
    }
   ],
   "source": [
    "import mysql.connector\n",
    "from mysql.connector import Error\n",
    "\n",
    "def test_connection():\n",
    "    connection = None  # Definir la variable connection fuera del bloque try\n",
    "    try:\n",
    "        connection = mysql.connector.connect(\n",
    "            host=\"localhost\",\n",
    "            user=\"root\",\n",
    "            password=\"JSLGKGM081022\",\n",
    "            database=\"proyecto\"\n",
    "        )\n",
    "        if connection.is_connected():\n",
    "            print(\"Conexión exitosa\")\n",
    "    except Error as err:\n",
    "        print(f\"Error: {err}\")\n",
    "    finally:\n",
    "        if connection is not None and connection.is_connected():\n",
    "            connection.close()\n",
    "            print(\"Conexión cerrada\")\n",
    "\n",
    "test_connection() "
   ]
  },
  {
   "cell_type": "markdown",
   "metadata": {},
   "source": [
    "## Importamos la tabla de datos"
   ]
  },
  {
   "cell_type": "code",
   "execution_count": 23,
   "metadata": {},
   "outputs": [
    {
     "data": {
      "text/html": [
       "<div>\n",
       "<style scoped>\n",
       "    .dataframe tbody tr th:only-of-type {\n",
       "        vertical-align: middle;\n",
       "    }\n",
       "\n",
       "    .dataframe tbody tr th {\n",
       "        vertical-align: top;\n",
       "    }\n",
       "\n",
       "    .dataframe thead th {\n",
       "        text-align: right;\n",
       "    }\n",
       "</style>\n",
       "<table border=\"1\" class=\"dataframe\">\n",
       "  <thead>\n",
       "    <tr style=\"text-align: right;\">\n",
       "      <th></th>\n",
       "      <th>Año</th>\n",
       "      <th>Entidad_Federativa</th>\n",
       "      <th>Hombre</th>\n",
       "      <th>Mujer</th>\n",
       "      <th>NE</th>\n",
       "      <th>Total</th>\n",
       "    </tr>\n",
       "  </thead>\n",
       "  <tbody>\n",
       "    <tr>\n",
       "      <th>0</th>\n",
       "      <td>2022-01-01</td>\n",
       "      <td>Nacional</td>\n",
       "      <td>466786</td>\n",
       "      <td>368395</td>\n",
       "      <td>252</td>\n",
       "      <td>835433</td>\n",
       "    </tr>\n",
       "    <tr>\n",
       "      <th>1</th>\n",
       "      <td>2022-01-01</td>\n",
       "      <td>Aguascalientes</td>\n",
       "      <td>4469</td>\n",
       "      <td>3612</td>\n",
       "      <td>0</td>\n",
       "      <td>8081</td>\n",
       "    </tr>\n",
       "    <tr>\n",
       "      <th>2</th>\n",
       "      <td>2022-01-01</td>\n",
       "      <td>Baja California</td>\n",
       "      <td>15286</td>\n",
       "      <td>9338</td>\n",
       "      <td>69</td>\n",
       "      <td>24693</td>\n",
       "    </tr>\n",
       "    <tr>\n",
       "      <th>3</th>\n",
       "      <td>2022-01-01</td>\n",
       "      <td>Baja California Sur</td>\n",
       "      <td>2584</td>\n",
       "      <td>1718</td>\n",
       "      <td>0</td>\n",
       "      <td>4302</td>\n",
       "    </tr>\n",
       "    <tr>\n",
       "      <th>4</th>\n",
       "      <td>2022-01-01</td>\n",
       "      <td>Campeche</td>\n",
       "      <td>3183</td>\n",
       "      <td>2503</td>\n",
       "      <td>1</td>\n",
       "      <td>5687</td>\n",
       "    </tr>\n",
       "    <tr>\n",
       "      <th>...</th>\n",
       "      <td>...</td>\n",
       "      <td>...</td>\n",
       "      <td>...</td>\n",
       "      <td>...</td>\n",
       "      <td>...</td>\n",
       "      <td>...</td>\n",
       "    </tr>\n",
       "    <tr>\n",
       "      <th>820</th>\n",
       "      <td>1998-01-01</td>\n",
       "      <td>Tamaulipas</td>\n",
       "      <td>6577</td>\n",
       "      <td>4964</td>\n",
       "      <td>7</td>\n",
       "      <td>11548</td>\n",
       "    </tr>\n",
       "    <tr>\n",
       "      <th>821</th>\n",
       "      <td>1998-01-01</td>\n",
       "      <td>Tlaxcala</td>\n",
       "      <td>2348</td>\n",
       "      <td>2007</td>\n",
       "      <td>1</td>\n",
       "      <td>4356</td>\n",
       "    </tr>\n",
       "    <tr>\n",
       "      <th>822</th>\n",
       "      <td>1998-01-01</td>\n",
       "      <td>Veracruz</td>\n",
       "      <td>18232</td>\n",
       "      <td>14175</td>\n",
       "      <td>17</td>\n",
       "      <td>32424</td>\n",
       "    </tr>\n",
       "    <tr>\n",
       "      <th>823</th>\n",
       "      <td>1998-01-01</td>\n",
       "      <td>YucatÃ¡n</td>\n",
       "      <td>4501</td>\n",
       "      <td>3816</td>\n",
       "      <td>1</td>\n",
       "      <td>8318</td>\n",
       "    </tr>\n",
       "    <tr>\n",
       "      <th>824</th>\n",
       "      <td>1998-01-01</td>\n",
       "      <td>Zacatecas</td>\n",
       "      <td>3703</td>\n",
       "      <td>2876</td>\n",
       "      <td>1</td>\n",
       "      <td>6580</td>\n",
       "    </tr>\n",
       "  </tbody>\n",
       "</table>\n",
       "<p>825 rows × 6 columns</p>\n",
       "</div>"
      ],
      "text/plain": [
       "           Año   Entidad_Federativa  Hombre   Mujer   NE   Total\n",
       "0   2022-01-01             Nacional  466786  368395  252  835433\n",
       "1   2022-01-01       Aguascalientes    4469    3612    0    8081\n",
       "2   2022-01-01      Baja California   15286    9338   69   24693\n",
       "3   2022-01-01  Baja California Sur    2584    1718    0    4302\n",
       "4   2022-01-01             Campeche    3183    2503    1    5687\n",
       "..         ...                  ...     ...     ...  ...     ...\n",
       "820 1998-01-01           Tamaulipas    6577    4964    7   11548\n",
       "821 1998-01-01             Tlaxcala    2348    2007    1    4356\n",
       "822 1998-01-01             Veracruz   18232   14175   17   32424\n",
       "823 1998-01-01             YucatÃ¡n    4501    3816    1    8318\n",
       "824 1998-01-01            Zacatecas    3703    2876    1    6580\n",
       "\n",
       "[825 rows x 6 columns]"
      ]
     },
     "execution_count": 23,
     "metadata": {},
     "output_type": "execute_result"
    }
   ],
   "source": [
    "query = \"SELECT * FROM defunciones_sexo_porentidad\"\n",
    "\n",
    "data_df = fetch_data(query)\n",
    "data_df"
   ]
  },
  {
   "cell_type": "markdown",
   "metadata": {
    "id": "nJW_VJSs9xkI"
   },
   "source": [
    "## **Manipulación de los datos**\n",
    "\n",
    "Mostraremos el tipo de datos que contiene la tabla, esto se logra mediante el siguiente código, de la salida observamos que sólo tenemos una variable cualitativa, la cual es **Entidad Federativa**.\n",
    "\n"
   ]
  },
  {
   "cell_type": "code",
   "execution_count": 11,
   "metadata": {
    "colab": {
     "base_uri": "https://localhost:8080/"
    },
    "id": "Qu86jDqThMBN",
    "outputId": "1fe926f4-0b54-4cba-a522-e4100f57b421"
   },
   "outputs": [
    {
     "name": "stdout",
     "output_type": "stream",
     "text": [
      "Tipo de datos del DataFrame:\n"
     ]
    },
    {
     "data": {
      "text/html": [
       "<div>\n",
       "<style scoped>\n",
       "    .dataframe tbody tr th:only-of-type {\n",
       "        vertical-align: middle;\n",
       "    }\n",
       "\n",
       "    .dataframe tbody tr th {\n",
       "        vertical-align: top;\n",
       "    }\n",
       "\n",
       "    .dataframe thead th {\n",
       "        text-align: right;\n",
       "    }\n",
       "</style>\n",
       "<table border=\"1\" class=\"dataframe\">\n",
       "  <thead>\n",
       "    <tr style=\"text-align: right;\">\n",
       "      <th></th>\n",
       "      <th>Field</th>\n",
       "      <th>Type</th>\n",
       "      <th>Null</th>\n",
       "      <th>Key</th>\n",
       "      <th>Default</th>\n",
       "      <th>Extra</th>\n",
       "    </tr>\n",
       "  </thead>\n",
       "  <tbody>\n",
       "    <tr>\n",
       "      <th>0</th>\n",
       "      <td>Año</td>\n",
       "      <td>datetime</td>\n",
       "      <td>YES</td>\n",
       "      <td></td>\n",
       "      <td>None</td>\n",
       "      <td></td>\n",
       "    </tr>\n",
       "    <tr>\n",
       "      <th>1</th>\n",
       "      <td>Entidad_Federativa</td>\n",
       "      <td>text</td>\n",
       "      <td>YES</td>\n",
       "      <td></td>\n",
       "      <td>None</td>\n",
       "      <td></td>\n",
       "    </tr>\n",
       "    <tr>\n",
       "      <th>2</th>\n",
       "      <td>Hombre</td>\n",
       "      <td>int</td>\n",
       "      <td>YES</td>\n",
       "      <td></td>\n",
       "      <td>None</td>\n",
       "      <td></td>\n",
       "    </tr>\n",
       "    <tr>\n",
       "      <th>3</th>\n",
       "      <td>Mujer</td>\n",
       "      <td>int</td>\n",
       "      <td>YES</td>\n",
       "      <td></td>\n",
       "      <td>None</td>\n",
       "      <td></td>\n",
       "    </tr>\n",
       "    <tr>\n",
       "      <th>4</th>\n",
       "      <td>NE</td>\n",
       "      <td>int</td>\n",
       "      <td>YES</td>\n",
       "      <td></td>\n",
       "      <td>None</td>\n",
       "      <td></td>\n",
       "    </tr>\n",
       "    <tr>\n",
       "      <th>5</th>\n",
       "      <td>Total</td>\n",
       "      <td>int</td>\n",
       "      <td>YES</td>\n",
       "      <td></td>\n",
       "      <td>None</td>\n",
       "      <td></td>\n",
       "    </tr>\n",
       "  </tbody>\n",
       "</table>\n",
       "</div>"
      ],
      "text/plain": [
       "                Field      Type Null Key Default Extra\n",
       "0                 Año  datetime  YES        None      \n",
       "1  Entidad_Federativa      text  YES        None      \n",
       "2              Hombre       int  YES        None      \n",
       "3               Mujer       int  YES        None      \n",
       "4                  NE       int  YES        None      \n",
       "5               Total       int  YES        None      "
      ]
     },
     "execution_count": 11,
     "metadata": {},
     "output_type": "execute_result"
    }
   ],
   "source": [
    "# Mostrar información sobre los tipos de datos\n",
    "print(\"Tipo de datos del DataFrame:\")\n",
    "\n",
    "query = \"DESCRIBE defunciones_sexo_porentidad\"\n",
    "df = fetch_data(query)\n",
    "df"
   ]
  },
  {
   "cell_type": "markdown",
   "metadata": {
    "id": "vlRVdawM_XxL"
   },
   "source": [
    "Ahora, filtraremos los datos para un solo año (2022) y para un estado solamente (Sonora)"
   ]
  },
  {
   "cell_type": "code",
   "execution_count": 24,
   "metadata": {
    "colab": {
     "base_uri": "https://localhost:8080/",
     "height": 89
    },
    "id": "mQyO31_fhXNW",
    "outputId": "5b79b5f0-d98f-42a9-de3f-176b750ae0c0"
   },
   "outputs": [
    {
     "data": {
      "text/html": [
       "<div>\n",
       "<style scoped>\n",
       "    .dataframe tbody tr th:only-of-type {\n",
       "        vertical-align: middle;\n",
       "    }\n",
       "\n",
       "    .dataframe tbody tr th {\n",
       "        vertical-align: top;\n",
       "    }\n",
       "\n",
       "    .dataframe thead th {\n",
       "        text-align: right;\n",
       "    }\n",
       "</style>\n",
       "<table border=\"1\" class=\"dataframe\">\n",
       "  <thead>\n",
       "    <tr style=\"text-align: right;\">\n",
       "      <th></th>\n",
       "      <th>Año</th>\n",
       "      <th>Entidad_Federativa</th>\n",
       "      <th>Hombre</th>\n",
       "      <th>Mujer</th>\n",
       "      <th>NE</th>\n",
       "      <th>Total</th>\n",
       "    </tr>\n",
       "  </thead>\n",
       "  <tbody>\n",
       "    <tr>\n",
       "      <th>0</th>\n",
       "      <td>2022-01-01</td>\n",
       "      <td>Sonora</td>\n",
       "      <td>13005</td>\n",
       "      <td>8704</td>\n",
       "      <td>12</td>\n",
       "      <td>21721</td>\n",
       "    </tr>\n",
       "  </tbody>\n",
       "</table>\n",
       "</div>"
      ],
      "text/plain": [
       "         Año Entidad_Federativa  Hombre  Mujer  NE  Total\n",
       "0 2022-01-01             Sonora   13005   8704  12  21721"
      ]
     },
     "execution_count": 24,
     "metadata": {},
     "output_type": "execute_result"
    }
   ],
   "source": [
    "# Filtrar datos para el año 2022 y el estado de Sonora\n",
    "query = \"SELECT * FROM defunciones_sexo_porentidad WHERE YEAR(Año) = 2022 AND `Entidad_Federativa` = 'Sonora'\"\n",
    "\n",
    "df_sonora_2022 = fetch_data(query)\n",
    "df_sonora_2022"
   ]
  },
  {
   "cell_type": "markdown",
   "metadata": {
    "id": "rWPqpNgS_dF2"
   },
   "source": [
    "Como podemos observar, nuestro DataFrame contiene la cantidad de Hombres, Mujeres y No Especificados que murieron en el estado de Sonora en el año 2022.\n",
    "\n",
    "El siguiente paso ahora es, modificar ciertos valores de nuestra variable cualitativa **Entidad Federativa**, en los cuales no se reconocieron los acentos, etc."
   ]
  },
  {
   "cell_type": "code",
   "execution_count": 25,
   "metadata": {},
   "outputs": [
    {
     "data": {
      "text/html": [
       "<div>\n",
       "<style scoped>\n",
       "    .dataframe tbody tr th:only-of-type {\n",
       "        vertical-align: middle;\n",
       "    }\n",
       "\n",
       "    .dataframe tbody tr th {\n",
       "        vertical-align: top;\n",
       "    }\n",
       "\n",
       "    .dataframe thead th {\n",
       "        text-align: right;\n",
       "    }\n",
       "</style>\n",
       "<table border=\"1\" class=\"dataframe\">\n",
       "  <thead>\n",
       "    <tr style=\"text-align: right;\">\n",
       "      <th></th>\n",
       "      <th>Año</th>\n",
       "      <th>Entidad_Federativa</th>\n",
       "      <th>Hombre</th>\n",
       "      <th>Mujer</th>\n",
       "      <th>NE</th>\n",
       "      <th>Total</th>\n",
       "    </tr>\n",
       "  </thead>\n",
       "  <tbody>\n",
       "    <tr>\n",
       "      <th>0</th>\n",
       "      <td>2022-01-01</td>\n",
       "      <td>Nacional</td>\n",
       "      <td>466786</td>\n",
       "      <td>368395</td>\n",
       "      <td>252</td>\n",
       "      <td>835433</td>\n",
       "    </tr>\n",
       "    <tr>\n",
       "      <th>1</th>\n",
       "      <td>2022-01-01</td>\n",
       "      <td>Aguascalientes</td>\n",
       "      <td>4469</td>\n",
       "      <td>3612</td>\n",
       "      <td>0</td>\n",
       "      <td>8081</td>\n",
       "    </tr>\n",
       "    <tr>\n",
       "      <th>2</th>\n",
       "      <td>2022-01-01</td>\n",
       "      <td>Baja California</td>\n",
       "      <td>15286</td>\n",
       "      <td>9338</td>\n",
       "      <td>69</td>\n",
       "      <td>24693</td>\n",
       "    </tr>\n",
       "    <tr>\n",
       "      <th>3</th>\n",
       "      <td>2022-01-01</td>\n",
       "      <td>Baja California Sur</td>\n",
       "      <td>2584</td>\n",
       "      <td>1718</td>\n",
       "      <td>0</td>\n",
       "      <td>4302</td>\n",
       "    </tr>\n",
       "    <tr>\n",
       "      <th>4</th>\n",
       "      <td>2022-01-01</td>\n",
       "      <td>Campeche</td>\n",
       "      <td>3183</td>\n",
       "      <td>2503</td>\n",
       "      <td>1</td>\n",
       "      <td>5687</td>\n",
       "    </tr>\n",
       "    <tr>\n",
       "      <th>5</th>\n",
       "      <td>2022-01-01</td>\n",
       "      <td>Coahuila</td>\n",
       "      <td>11650</td>\n",
       "      <td>9553</td>\n",
       "      <td>6</td>\n",
       "      <td>21209</td>\n",
       "    </tr>\n",
       "    <tr>\n",
       "      <th>6</th>\n",
       "      <td>2022-01-01</td>\n",
       "      <td>Colima</td>\n",
       "      <td>3475</td>\n",
       "      <td>2206</td>\n",
       "      <td>2</td>\n",
       "      <td>5683</td>\n",
       "    </tr>\n",
       "    <tr>\n",
       "      <th>7</th>\n",
       "      <td>2022-01-01</td>\n",
       "      <td>Chiapas</td>\n",
       "      <td>17389</td>\n",
       "      <td>14314</td>\n",
       "      <td>3</td>\n",
       "      <td>31706</td>\n",
       "    </tr>\n",
       "    <tr>\n",
       "      <th>8</th>\n",
       "      <td>2022-01-01</td>\n",
       "      <td>Chihuahua</td>\n",
       "      <td>16990</td>\n",
       "      <td>11806</td>\n",
       "      <td>28</td>\n",
       "      <td>28824</td>\n",
       "    </tr>\n",
       "    <tr>\n",
       "      <th>9</th>\n",
       "      <td>2022-01-01</td>\n",
       "      <td>CDMX</td>\n",
       "      <td>35782</td>\n",
       "      <td>33669</td>\n",
       "      <td>4</td>\n",
       "      <td>69455</td>\n",
       "    </tr>\n",
       "    <tr>\n",
       "      <th>10</th>\n",
       "      <td>2022-01-01</td>\n",
       "      <td>Durango</td>\n",
       "      <td>6630</td>\n",
       "      <td>5076</td>\n",
       "      <td>4</td>\n",
       "      <td>11710</td>\n",
       "    </tr>\n",
       "    <tr>\n",
       "      <th>11</th>\n",
       "      <td>2022-01-01</td>\n",
       "      <td>Guanajuato</td>\n",
       "      <td>24531</td>\n",
       "      <td>18334</td>\n",
       "      <td>2</td>\n",
       "      <td>42867</td>\n",
       "    </tr>\n",
       "    <tr>\n",
       "      <th>12</th>\n",
       "      <td>2022-01-01</td>\n",
       "      <td>Guerrero</td>\n",
       "      <td>11830</td>\n",
       "      <td>8787</td>\n",
       "      <td>2</td>\n",
       "      <td>20619</td>\n",
       "    </tr>\n",
       "    <tr>\n",
       "      <th>13</th>\n",
       "      <td>2022-01-01</td>\n",
       "      <td>Hidalgo</td>\n",
       "      <td>10217</td>\n",
       "      <td>8355</td>\n",
       "      <td>3</td>\n",
       "      <td>18575</td>\n",
       "    </tr>\n",
       "    <tr>\n",
       "      <th>14</th>\n",
       "      <td>2022-01-01</td>\n",
       "      <td>Jalisco</td>\n",
       "      <td>32041</td>\n",
       "      <td>24323</td>\n",
       "      <td>24</td>\n",
       "      <td>56388</td>\n",
       "    </tr>\n",
       "    <tr>\n",
       "      <th>15</th>\n",
       "      <td>2022-01-01</td>\n",
       "      <td>Estado de Mexico</td>\n",
       "      <td>55529</td>\n",
       "      <td>45192</td>\n",
       "      <td>13</td>\n",
       "      <td>100734</td>\n",
       "    </tr>\n",
       "    <tr>\n",
       "      <th>16</th>\n",
       "      <td>2022-01-01</td>\n",
       "      <td>Michoacan</td>\n",
       "      <td>19022</td>\n",
       "      <td>13786</td>\n",
       "      <td>14</td>\n",
       "      <td>32822</td>\n",
       "    </tr>\n",
       "    <tr>\n",
       "      <th>17</th>\n",
       "      <td>2022-01-01</td>\n",
       "      <td>Morelos</td>\n",
       "      <td>9048</td>\n",
       "      <td>6843</td>\n",
       "      <td>6</td>\n",
       "      <td>15897</td>\n",
       "    </tr>\n",
       "    <tr>\n",
       "      <th>18</th>\n",
       "      <td>2022-01-01</td>\n",
       "      <td>Nayarit</td>\n",
       "      <td>4530</td>\n",
       "      <td>3210</td>\n",
       "      <td>0</td>\n",
       "      <td>7740</td>\n",
       "    </tr>\n",
       "    <tr>\n",
       "      <th>19</th>\n",
       "      <td>2022-01-01</td>\n",
       "      <td>Nuevo Leon</td>\n",
       "      <td>21431</td>\n",
       "      <td>16698</td>\n",
       "      <td>5</td>\n",
       "      <td>38134</td>\n",
       "    </tr>\n",
       "    <tr>\n",
       "      <th>20</th>\n",
       "      <td>2022-01-01</td>\n",
       "      <td>Oaxaca</td>\n",
       "      <td>16105</td>\n",
       "      <td>13967</td>\n",
       "      <td>6</td>\n",
       "      <td>30078</td>\n",
       "    </tr>\n",
       "    <tr>\n",
       "      <th>21</th>\n",
       "      <td>2022-01-01</td>\n",
       "      <td>Puebla</td>\n",
       "      <td>23746</td>\n",
       "      <td>20290</td>\n",
       "      <td>14</td>\n",
       "      <td>44050</td>\n",
       "    </tr>\n",
       "    <tr>\n",
       "      <th>22</th>\n",
       "      <td>2022-01-01</td>\n",
       "      <td>Queretaro</td>\n",
       "      <td>7629</td>\n",
       "      <td>5920</td>\n",
       "      <td>2</td>\n",
       "      <td>13551</td>\n",
       "    </tr>\n",
       "    <tr>\n",
       "      <th>23</th>\n",
       "      <td>2022-01-01</td>\n",
       "      <td>Quintana Roo</td>\n",
       "      <td>5345</td>\n",
       "      <td>3341</td>\n",
       "      <td>5</td>\n",
       "      <td>8691</td>\n",
       "    </tr>\n",
       "    <tr>\n",
       "      <th>24</th>\n",
       "      <td>2022-01-01</td>\n",
       "      <td>San Luis Potosi</td>\n",
       "      <td>11477</td>\n",
       "      <td>8850</td>\n",
       "      <td>1</td>\n",
       "      <td>20328</td>\n",
       "    </tr>\n",
       "    <tr>\n",
       "      <th>25</th>\n",
       "      <td>2022-01-01</td>\n",
       "      <td>Sinaloa</td>\n",
       "      <td>10204</td>\n",
       "      <td>7262</td>\n",
       "      <td>2</td>\n",
       "      <td>17468</td>\n",
       "    </tr>\n",
       "    <tr>\n",
       "      <th>26</th>\n",
       "      <td>2022-01-01</td>\n",
       "      <td>Sonora</td>\n",
       "      <td>13005</td>\n",
       "      <td>8704</td>\n",
       "      <td>12</td>\n",
       "      <td>21721</td>\n",
       "    </tr>\n",
       "    <tr>\n",
       "      <th>27</th>\n",
       "      <td>2022-01-01</td>\n",
       "      <td>Tabasco</td>\n",
       "      <td>8413</td>\n",
       "      <td>6572</td>\n",
       "      <td>3</td>\n",
       "      <td>14988</td>\n",
       "    </tr>\n",
       "    <tr>\n",
       "      <th>28</th>\n",
       "      <td>2022-01-01</td>\n",
       "      <td>Tamaulipas</td>\n",
       "      <td>12515</td>\n",
       "      <td>9741</td>\n",
       "      <td>3</td>\n",
       "      <td>22259</td>\n",
       "    </tr>\n",
       "    <tr>\n",
       "      <th>29</th>\n",
       "      <td>2022-01-01</td>\n",
       "      <td>Tlaxcala</td>\n",
       "      <td>4346</td>\n",
       "      <td>3689</td>\n",
       "      <td>0</td>\n",
       "      <td>8035</td>\n",
       "    </tr>\n",
       "    <tr>\n",
       "      <th>30</th>\n",
       "      <td>2022-01-01</td>\n",
       "      <td>Veracruz</td>\n",
       "      <td>32983</td>\n",
       "      <td>28560</td>\n",
       "      <td>12</td>\n",
       "      <td>61555</td>\n",
       "    </tr>\n",
       "    <tr>\n",
       "      <th>31</th>\n",
       "      <td>2022-01-01</td>\n",
       "      <td>Yucatan</td>\n",
       "      <td>8255</td>\n",
       "      <td>6948</td>\n",
       "      <td>4</td>\n",
       "      <td>15207</td>\n",
       "    </tr>\n",
       "    <tr>\n",
       "      <th>32</th>\n",
       "      <td>2022-01-01</td>\n",
       "      <td>Zacatecas</td>\n",
       "      <td>7146</td>\n",
       "      <td>5228</td>\n",
       "      <td>2</td>\n",
       "      <td>12376</td>\n",
       "    </tr>\n",
       "  </tbody>\n",
       "</table>\n",
       "</div>"
      ],
      "text/plain": [
       "          Año   Entidad_Federativa  Hombre   Mujer   NE   Total\n",
       "0  2022-01-01             Nacional  466786  368395  252  835433\n",
       "1  2022-01-01       Aguascalientes    4469    3612    0    8081\n",
       "2  2022-01-01      Baja California   15286    9338   69   24693\n",
       "3  2022-01-01  Baja California Sur    2584    1718    0    4302\n",
       "4  2022-01-01             Campeche    3183    2503    1    5687\n",
       "5  2022-01-01             Coahuila   11650    9553    6   21209\n",
       "6  2022-01-01               Colima    3475    2206    2    5683\n",
       "7  2022-01-01              Chiapas   17389   14314    3   31706\n",
       "8  2022-01-01            Chihuahua   16990   11806   28   28824\n",
       "9  2022-01-01                 CDMX   35782   33669    4   69455\n",
       "10 2022-01-01              Durango    6630    5076    4   11710\n",
       "11 2022-01-01           Guanajuato   24531   18334    2   42867\n",
       "12 2022-01-01             Guerrero   11830    8787    2   20619\n",
       "13 2022-01-01              Hidalgo   10217    8355    3   18575\n",
       "14 2022-01-01              Jalisco   32041   24323   24   56388\n",
       "15 2022-01-01     Estado de Mexico   55529   45192   13  100734\n",
       "16 2022-01-01            Michoacan   19022   13786   14   32822\n",
       "17 2022-01-01              Morelos    9048    6843    6   15897\n",
       "18 2022-01-01              Nayarit    4530    3210    0    7740\n",
       "19 2022-01-01           Nuevo Leon   21431   16698    5   38134\n",
       "20 2022-01-01               Oaxaca   16105   13967    6   30078\n",
       "21 2022-01-01               Puebla   23746   20290   14   44050\n",
       "22 2022-01-01            Queretaro    7629    5920    2   13551\n",
       "23 2022-01-01         Quintana Roo    5345    3341    5    8691\n",
       "24 2022-01-01      San Luis Potosi   11477    8850    1   20328\n",
       "25 2022-01-01              Sinaloa   10204    7262    2   17468\n",
       "26 2022-01-01               Sonora   13005    8704   12   21721\n",
       "27 2022-01-01              Tabasco    8413    6572    3   14988\n",
       "28 2022-01-01           Tamaulipas   12515    9741    3   22259\n",
       "29 2022-01-01             Tlaxcala    4346    3689    0    8035\n",
       "30 2022-01-01             Veracruz   32983   28560   12   61555\n",
       "31 2022-01-01              Yucatan    8255    6948    4   15207\n",
       "32 2022-01-01            Zacatecas    7146    5228    2   12376"
      ]
     },
     "execution_count": 25,
     "metadata": {},
     "output_type": "execute_result"
    }
   ],
   "source": [
    "data_df['Entidad_Federativa'] = data_df['Entidad_Federativa'].replace({'MÃ©xico':'Estado de Mexico', 'MichoacÃ¡n': 'Michoacan', 'Nuevo LeÃ³n':'Nuevo Leon', 'QuerÃ©taro':'Queretaro','San Luis PotosÃ­':'San Luis Potosi', 'YucatÃ¡n':'Yucatan'})\n",
    "data_df.head(33)"
   ]
  },
  {
   "cell_type": "markdown",
   "metadata": {
    "id": "OHd9jQqhA6K9"
   },
   "source": [
    "## **Análisis exploratorio básico**\n",
    "Realizaremos un análisis exploratorio básico, incluyendo gráficos y agrupaciones.\n",
    "\n",
    "En primera instancia, vamos a agrupar por entidad federativa los datos del año 2022, y con el total de casos por entidad, realizaremos una gráfiva de barras horizontal, ordenandolas de manera descendente. Esta gráfica nos permitirá observar en que estados hubo más y menos decesos en ese año.\n"
   ]
  },
  {
   "cell_type": "code",
   "execution_count": 52,
   "metadata": {
    "colab": {
     "base_uri": "https://localhost:8080/",
     "height": 573
    },
    "id": "2xCOriogjz8p",
    "outputId": "1a5bc9aa-8fa4-448d-85e4-28163366c7cf"
   },
   "outputs": [],
   "source": [
    "# Análisis exploratorio básico\n",
    "\n",
    "# Configuraciones de visualización\n",
    "sns.set_theme()\n",
    "plt.rcParams[\"figure.figsize\"] = (12, 6)\n",
    "\n",
    "# 1. Total de casos por entidad en 2022\n",
    "query = \"SELECT `Entidad_Federativa`, SUM(`Total`) AS Total_Casos FROM defunciones_sexo_porentidad WHERE YEAR(`Año`) = 2022 GROUP BY `Entidad_Federativa` ORDER BY Total_Casos\"\n",
    "total_por_entidad = fetch_data(query)\n",
    "# convertimos a tipo int64 el total de los casos para que podamos hacer la gráfica\n",
    "total_por_entidad['Total_Casos'] = total_por_entidad['Total_Casos'].astype('int64')"
   ]
  },
  {
   "cell_type": "code",
   "execution_count": 58,
   "metadata": {},
   "outputs": [],
   "source": [
    "# Graficar\n",
    "# Definir una paleta de colores personalizada\n",
    "colores = sns.color_palette(\"hls\", len(total_por_entidad))\n",
    "total_por_entidad.plot(kind='barh', title='Total de Casos por Entidad Federativa en 2022', color=colores)\n",
    "plt.xlabel('Total de Casos')\n",
    "plt.ylabel('Entidad Federativa')\n",
    "plt.close()"
   ]
  },
  {
   "attachments": {
    "0a4cc7f8-1092-4686-8552-a28c23ab5a94.png": {
     "image/png": "[encoded data removed]"
    }
   },
   "cell_type": "markdown",
   "metadata": {},
   "source": [
    "![image.png](attachment:0a4cc7f8-1092-4686-8552-a28c23ab5a94.png)"
   ]
  },
  {
   "cell_type": "markdown",
   "metadata": {
    "id": "RhxdYKt3FbqZ"
   },
   "source": [
    "Como podemos observar, el estado en el que hay menos decesos es Baja California Sur, y el que más hay desesos es Estado de México. Sin embargo, el estado que nos interesa en este análisis es Sonora, en el cuál observamos una cantidad de defunciones un poco mayor a 20,000 en el año 2022. De ese total, ¿Qué proporción fueron hombres y qué proporción fueron mujeres?."
   ]
  },
  {
   "cell_type": "code",
   "execution_count": 60,
   "metadata": {
    "colab": {
     "base_uri": "https://localhost:8080/",
     "height": 577
    },
    "id": "7jGsUfbunHKs",
    "outputId": "fdb5c4de-8096-4edf-da9a-e6a90af00402"
   },
   "outputs": [
    {
     "data": {
      "image/png": "[encoded data removed]",
      "text/plain": [
       "<Figure size 1200x600 with 1 Axes>"
      ]
     },
     "metadata": {},
     "output_type": "display_data"
    }
   ],
   "source": [
    "# 2. Distribución de casos por género en Sonora en 2022\n",
    "df_sonora_2022[['Hombre', 'Mujer']].plot(kind='bar', stacked=True, title='Distribución de Casos por Género en Sonora en 2022')\n",
    "plt.xlabel('Sexo')\n",
    "plt.ylabel('Número de Casos')\n",
    "plt.show()"
   ]
  },
  {
   "cell_type": "markdown",
   "metadata": {
    "id": "PVYg2H_CH295"
   },
   "source": [
    "Como se observa, en Sonora, 2022, hubieron más defunciones de hombres que de mujeres."
   ]
  },
  {
   "cell_type": "markdown",
   "metadata": {
    "id": "tySth_xRIS3x"
   },
   "source": [
    "Por último, es de nuestro interés, saber la evolución de los casos de muerte en Sonora, a través de los años, es por ello que mediante una agrupación de la base de datos total por año en donde la entidad federativa es Sonora, se gráfica la serie de tiempo de esta evolución;"
   ]
  },
  {
   "cell_type": "code",
   "execution_count": 77,
   "metadata": {
    "colab": {
     "base_uri": "https://localhost:8080/",
     "height": 472
    },
    "id": "dE_iTe5CvLTK",
    "outputId": "dda55c90-243c-4408-caaa-8430317d4127"
   },
   "outputs": [
    {
     "data": {
      "image/png": "[encoded data removed]",
      "text/plain": [
       "<Figure size 1200x600 with 1 Axes>"
      ]
     },
     "metadata": {},
     "output_type": "display_data"
    }
   ],
   "source": [
    "# 3. Evolución anual del total de casos en Sonora\n",
    "query = \"SELECT YEAR(`Año`) AS Año, SUM(`Total`) AS Total_Casos FROM defunciones_sexo_porentidad WHERE `Entidad_Federativa` = 'Sonora' GROUP BY YEAR(`Año`) ORDER BY Año;\"\n",
    "evolucion_sonora = fetch_data(query)\n",
    "evolucion_sonora['Total_Casos'] = evolucion_sonora['Total_Casos'].astype('int64')\n",
    "evolucion_sonora\n",
    "evolucion_sonora.plot(title='Evolución Anual del Total de Casos en Sonora',x='Año', y='Total_Casos',color='red')\n",
    "plt.xlabel('Año')\n",
    "plt.ylabel('Total de Casos')\n",
    "plt.show()"
   ]
  },
  {
   "cell_type": "markdown",
   "metadata": {
    "id": "YhpesT2tJPoQ"
   },
   "source": [
    "Se observa un crecimiento abrupto del año 2019 al año 2020, y el motivo que podríamos inferir, es la llegada del COVID-19 ya que justo entre esos años apareció, así que probablemente, ese es el motivo de ese crecimiento repentino, haría falta corroborar eso, con la base de datos de las principales causas de defunciones por año para completar el análisis."
   ]
  },
  {
   "cell_type": "markdown",
   "metadata": {
    "id": "oGH7VOcWKSPH"
   },
   "source": [
    "## **Reflexión**\n",
    "En este proyecto, nos enfocamos en analizar el comportamiento de los datos en 2022, particularizando para el estado de Sonora, dentro de las cosas que se pudieron observar están\n",
    "\n",
    "1. **Casos de decesos en general**: Observamos una cantidad alta de decesos para este año, sin embargo, el Estado de México rebasa por 3/10 partes al segundo lugar en muertes (Ciudad de México), mientras que la diferencia entre los demás estados es mucho más pequeña.\n",
    "\n",
    "2. **Distribución por Género**: En la mayoría de las entidades, hay una tendencia a tener más casos reportados para hombres que para mujeres.\n",
    "\n",
    "3. **Sonora**: Enfocándonos en Sonora, notamos que el total de casos ha tenido una tendencia variable pero creciente a lo largo de los años, aunque del año 2020 al 2022 decrece la cantidad de defunciones. En cuanto a la distribución por género, muestra una proporción relativamente equilibrada pero con una ligera predominancia en casos de hombres."
   ]
  }
 ],
 "metadata": {
  "colab": {
   "provenance": []
  },
  "kernelspec": {
   "display_name": "Python 3 (ipykernel)",
   "language": "python",
   "name": "python3"
  },
  "language_info": {
   "codemirror_mode": {
    "name": "ipython",
    "version": 3
   },
   "file_extension": ".py",
   "mimetype": "text/x-python",
   "name": "python",
   "nbconvert_exporter": "python",
   "pygments_lexer": "ipython3",
   "version": "3.11.7"
  }
 },
 "nbformat": 4,
 "nbformat_minor": 4
}
